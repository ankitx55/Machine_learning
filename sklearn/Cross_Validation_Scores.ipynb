{
 "cells": [
  {
   "cell_type": "markdown",
   "id": "f4b99a56",
   "metadata": {},
   "source": [
    "# Cross validation scores for classifier model"
   ]
  },
  {
   "cell_type": "markdown",
   "id": "c6421ccb",
   "metadata": {},
   "source": [
    "### Starting a model first"
   ]
  },
  {
   "cell_type": "code",
   "execution_count": 1,
   "id": "f50bd67d",
   "metadata": {},
   "outputs": [],
   "source": [
    "import pandas as pd\n",
    "import numpy as np\n",
    "from sklearn.model_selection import cross_val_score\n",
    "from sklearn.ensemble import RandomForestClassifier\n",
    "np.random.seed(42)"
   ]
  },
  {
   "cell_type": "code",
   "execution_count": 2,
   "id": "294db8b6",
   "metadata": {},
   "outputs": [],
   "source": [
    "model = pd.read_csv(\"../Data/heart-disease.csv\")\n",
    "X = model.drop(\"target\", axis=1)\n",
    "y = model[\"target\"]"
   ]
  },
  {
   "cell_type": "code",
   "execution_count": 4,
   "id": "1550575c",
   "metadata": {},
   "outputs": [],
   "source": [
    "model = RandomForestClassifier(n_estimators=100)"
   ]
  },
  {
   "cell_type": "markdown",
   "id": "8de7a590",
   "metadata": {},
   "source": [
    "## (i) Cross validated accuracy"
   ]
  },
  {
   "cell_type": "code",
   "execution_count": 6,
   "id": "67425cb7",
   "metadata": {},
   "outputs": [
    {
     "data": {
      "text/plain": [
       "array([0.81967213, 0.90163934, 0.83606557, 0.78333333, 0.78333333])"
      ]
     },
     "execution_count": 6,
     "metadata": {},
     "output_type": "execute_result"
    }
   ],
   "source": [
    "np.random.seed(42)\n",
    "cv_acc = cross_val_score(model, X, y, cv=5, scoring=\"accuracy\")\n",
    "cv_acc"
   ]
  },
  {
   "cell_type": "code",
   "execution_count": 7,
   "id": "b5f83bab",
   "metadata": {},
   "outputs": [
    {
     "data": {
      "text/plain": [
       "0.8248087431693989"
      ]
     },
     "execution_count": 7,
     "metadata": {},
     "output_type": "execute_result"
    }
   ],
   "source": [
    "np.mean(cv_acc)"
   ]
  },
  {
   "cell_type": "markdown",
   "id": "4eb15cb4",
   "metadata": {},
   "source": [
    "## (ii) Cross validated precision"
   ]
  },
  {
   "cell_type": "code",
   "execution_count": 9,
   "id": "feebf1b2",
   "metadata": {},
   "outputs": [
    {
     "data": {
      "text/plain": [
       "array([0.82352941, 0.93548387, 0.84848485, 0.79411765, 0.76315789])"
      ]
     },
     "execution_count": 9,
     "metadata": {},
     "output_type": "execute_result"
    }
   ],
   "source": [
    "np.random.seed(42)\n",
    "cv_precision = cross_val_score(model, X, y, cv=5, scoring=\"precision\")\n",
    "cv_precision"
   ]
  },
  {
   "cell_type": "code",
   "execution_count": 10,
   "id": "31041a97",
   "metadata": {},
   "outputs": [
    {
     "data": {
      "text/plain": [
       "0.8329547346025924"
      ]
     },
     "execution_count": 10,
     "metadata": {},
     "output_type": "execute_result"
    }
   ],
   "source": [
    "np.mean(cv_precision)"
   ]
  },
  {
   "cell_type": "markdown",
   "id": "9158d98d",
   "metadata": {},
   "source": [
    "## (iii) Cross validated recall"
   ]
  },
  {
   "cell_type": "code",
   "execution_count": 11,
   "id": "113868bb",
   "metadata": {},
   "outputs": [
    {
     "data": {
      "text/plain": [
       "array([0.84848485, 0.87878788, 0.84848485, 0.81818182, 0.87878788])"
      ]
     },
     "execution_count": 11,
     "metadata": {},
     "output_type": "execute_result"
    }
   ],
   "source": [
    "np.random.seed(42)\n",
    "cv_recall = cross_val_score(model, X, y, cv=5, scoring=\"recall\")\n",
    "cv_recall"
   ]
  },
  {
   "cell_type": "code",
   "execution_count": 16,
   "id": "03e7eb98",
   "metadata": {},
   "outputs": [
    {
     "data": {
      "text/plain": [
       "0.8545454545454545"
      ]
     },
     "execution_count": 16,
     "metadata": {},
     "output_type": "execute_result"
    }
   ],
   "source": [
    "np.mean(cv_recall)"
   ]
  },
  {
   "cell_type": "code",
   "execution_count": null,
   "id": "d51a44b5",
   "metadata": {},
   "outputs": [],
   "source": [
    "np.random.seed(42)\n",
    "model = RandomForestClassifier(n_estimators=100)\n",
    "cv_r2 = cross_val_score(model, X, y, cv=5, scoring = None)\n",
    "cv_r2\n",
    "np.mean(cv_r2)"
   ]
  },
  {
   "cell_type": "markdown",
   "id": "4e252e35",
   "metadata": {},
   "source": [
    "### Mean squared error"
   ]
  },
  {
   "cell_type": "code",
   "execution_count": 14,
   "id": "623fdf53",
   "metadata": {},
   "outputs": [
    {
     "data": {
      "text/plain": [
       "array([-0.21311475, -0.13114754, -0.19672131, -0.21666667, -0.23333333])"
      ]
     },
     "execution_count": 14,
     "metadata": {},
     "output_type": "execute_result"
    }
   ],
   "source": [
    "cv_mse = cross_val_score(model, X, y, cv=5, scoring = \"neg_mean_squared_error\")\n",
    "cv_mse"
   ]
  },
  {
   "cell_type": "code",
   "execution_count": 15,
   "id": "d906d6a8",
   "metadata": {},
   "outputs": [
    {
     "data": {
      "text/plain": [
       "-0.1981967213114754"
      ]
     },
     "execution_count": 15,
     "metadata": {},
     "output_type": "execute_result"
    }
   ],
   "source": [
    "np.mean(cv_mse)"
   ]
  },
  {
   "cell_type": "code",
   "execution_count": null,
   "id": "1289ff02",
   "metadata": {},
   "outputs": [],
   "source": []
  }
 ],
 "metadata": {
  "kernelspec": {
   "display_name": "Python 3 (ipykernel)",
   "language": "python",
   "name": "python3"
  },
  "language_info": {
   "codemirror_mode": {
    "name": "ipython",
    "version": 3
   },
   "file_extension": ".py",
   "mimetype": "text/x-python",
   "name": "python",
   "nbconvert_exporter": "python",
   "pygments_lexer": "ipython3",
   "version": "3.10.9"
  }
 },
 "nbformat": 4,
 "nbformat_minor": 5
}
