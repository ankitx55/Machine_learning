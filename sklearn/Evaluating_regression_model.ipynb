{
 "cells": [
  {
   "cell_type": "markdown",
   "id": "440e0f85",
   "metadata": {},
   "source": [
    "# Evaluation of a Regression model"
   ]
  },
  {
   "cell_type": "markdown",
   "id": "d0ee3b27",
   "metadata": {},
   "source": [
    "### Basic imports"
   ]
  },
  {
   "cell_type": "code",
   "execution_count": 3,
   "id": "38d6b84d",
   "metadata": {},
   "outputs": [],
   "source": [
    "import pandas as pd\n",
    "import numpy as np\n",
    "import matplotlib.pyplot as plt"
   ]
  },
  {
   "cell_type": "code",
   "execution_count": null,
   "id": "5a7743fc",
   "metadata": {},
   "outputs": [],
   "source": [
    "model = pd.read_csv(../Data/)"
   ]
  }
 ],
 "metadata": {
  "kernelspec": {
   "display_name": "Python 3 (ipykernel)",
   "language": "python",
   "name": "python3"
  },
  "language_info": {
   "codemirror_mode": {
    "name": "ipython",
    "version": 3
   },
   "file_extension": ".py",
   "mimetype": "text/x-python",
   "name": "python",
   "nbconvert_exporter": "python",
   "pygments_lexer": "ipython3",
   "version": "3.11.4"
  }
 },
 "nbformat": 4,
 "nbformat_minor": 5
}
