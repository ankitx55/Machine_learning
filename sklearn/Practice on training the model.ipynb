{
 "cells": [
  {
   "cell_type": "markdown",
   "id": "969f7e88",
   "metadata": {},
   "source": [
    "# Practicing on traning the model"
   ]
  },
  {
   "cell_type": "markdown",
   "id": "2b6b1077",
   "metadata": {},
   "source": [
    "### 1. Importing usual libraries"
   ]
  },
  {
   "cell_type": "code",
   "execution_count": 84,
   "id": "71954f6f",
   "metadata": {},
   "outputs": [],
   "source": [
    "import pandas as pd\n",
    "import numpy as np"
   ]
  },
  {
   "cell_type": "markdown",
   "id": "fca0df7c",
   "metadata": {},
   "source": [
    "### 2. Import the dataset"
   ]
  },
  {
   "cell_type": "code",
   "execution_count": 85,
   "id": "551f87ab",
   "metadata": {},
   "outputs": [
    {
     "data": {
      "text/html": [
       "<div>\n",
       "<style scoped>\n",
       "    .dataframe tbody tr th:only-of-type {\n",
       "        vertical-align: middle;\n",
       "    }\n",
       "\n",
       "    .dataframe tbody tr th {\n",
       "        vertical-align: top;\n",
       "    }\n",
       "\n",
       "    .dataframe thead th {\n",
       "        text-align: right;\n",
       "    }\n",
       "</style>\n",
       "<table border=\"1\" class=\"dataframe\">\n",
       "  <thead>\n",
       "    <tr style=\"text-align: right;\">\n",
       "      <th></th>\n",
       "      <th>price</th>\n",
       "      <th>area</th>\n",
       "      <th>bedrooms</th>\n",
       "      <th>bathrooms</th>\n",
       "      <th>stories</th>\n",
       "      <th>mainroad</th>\n",
       "      <th>guestroom</th>\n",
       "      <th>basement</th>\n",
       "      <th>hotwaterheating</th>\n",
       "      <th>airconditioning</th>\n",
       "      <th>parking</th>\n",
       "      <th>prefarea</th>\n",
       "      <th>furnishingstatus</th>\n",
       "    </tr>\n",
       "  </thead>\n",
       "  <tbody>\n",
       "    <tr>\n",
       "      <th>0</th>\n",
       "      <td>13300000</td>\n",
       "      <td>7420</td>\n",
       "      <td>4</td>\n",
       "      <td>2</td>\n",
       "      <td>3</td>\n",
       "      <td>yes</td>\n",
       "      <td>no</td>\n",
       "      <td>no</td>\n",
       "      <td>no</td>\n",
       "      <td>yes</td>\n",
       "      <td>2</td>\n",
       "      <td>yes</td>\n",
       "      <td>furnished</td>\n",
       "    </tr>\n",
       "    <tr>\n",
       "      <th>1</th>\n",
       "      <td>12250000</td>\n",
       "      <td>8960</td>\n",
       "      <td>4</td>\n",
       "      <td>4</td>\n",
       "      <td>4</td>\n",
       "      <td>yes</td>\n",
       "      <td>no</td>\n",
       "      <td>no</td>\n",
       "      <td>no</td>\n",
       "      <td>yes</td>\n",
       "      <td>3</td>\n",
       "      <td>no</td>\n",
       "      <td>furnished</td>\n",
       "    </tr>\n",
       "    <tr>\n",
       "      <th>2</th>\n",
       "      <td>12250000</td>\n",
       "      <td>9960</td>\n",
       "      <td>3</td>\n",
       "      <td>2</td>\n",
       "      <td>2</td>\n",
       "      <td>yes</td>\n",
       "      <td>no</td>\n",
       "      <td>yes</td>\n",
       "      <td>no</td>\n",
       "      <td>no</td>\n",
       "      <td>2</td>\n",
       "      <td>yes</td>\n",
       "      <td>semi-furnished</td>\n",
       "    </tr>\n",
       "    <tr>\n",
       "      <th>3</th>\n",
       "      <td>12215000</td>\n",
       "      <td>7500</td>\n",
       "      <td>4</td>\n",
       "      <td>2</td>\n",
       "      <td>2</td>\n",
       "      <td>yes</td>\n",
       "      <td>no</td>\n",
       "      <td>yes</td>\n",
       "      <td>no</td>\n",
       "      <td>yes</td>\n",
       "      <td>3</td>\n",
       "      <td>yes</td>\n",
       "      <td>furnished</td>\n",
       "    </tr>\n",
       "    <tr>\n",
       "      <th>4</th>\n",
       "      <td>11410000</td>\n",
       "      <td>7420</td>\n",
       "      <td>4</td>\n",
       "      <td>1</td>\n",
       "      <td>2</td>\n",
       "      <td>yes</td>\n",
       "      <td>yes</td>\n",
       "      <td>yes</td>\n",
       "      <td>no</td>\n",
       "      <td>yes</td>\n",
       "      <td>2</td>\n",
       "      <td>no</td>\n",
       "      <td>furnished</td>\n",
       "    </tr>\n",
       "  </tbody>\n",
       "</table>\n",
       "</div>"
      ],
      "text/plain": [
       "      price  area  bedrooms  bathrooms  stories mainroad guestroom basement  \\\n",
       "0  13300000  7420         4          2        3      yes        no       no   \n",
       "1  12250000  8960         4          4        4      yes        no       no   \n",
       "2  12250000  9960         3          2        2      yes        no      yes   \n",
       "3  12215000  7500         4          2        2      yes        no      yes   \n",
       "4  11410000  7420         4          1        2      yes       yes      yes   \n",
       "\n",
       "  hotwaterheating airconditioning  parking prefarea furnishingstatus  \n",
       "0              no             yes        2      yes        furnished  \n",
       "1              no             yes        3       no        furnished  \n",
       "2              no              no        2      yes   semi-furnished  \n",
       "3              no             yes        3      yes        furnished  \n",
       "4              no             yes        2       no        furnished  "
      ]
     },
     "execution_count": 85,
     "metadata": {},
     "output_type": "execute_result"
    }
   ],
   "source": [
    "housing_data = pd.read_csv(\"../data/Housing.csv\")\n",
    "housing_data.head()"
   ]
  },
  {
   "cell_type": "markdown",
   "id": "7a5e304c",
   "metadata": {},
   "source": [
    "### 3. Split the dataset into axes, ie, `x & y`"
   ]
  },
  {
   "cell_type": "code",
   "execution_count": 86,
   "id": "aca0f5a4",
   "metadata": {},
   "outputs": [
    {
     "data": {
      "text/plain": [
       "(area                 int64\n",
       " bedrooms             int64\n",
       " bathrooms            int64\n",
       " stories              int64\n",
       " mainroad            object\n",
       " guestroom           object\n",
       " basement            object\n",
       " hotwaterheating     object\n",
       " airconditioning     object\n",
       " parking              int64\n",
       " prefarea            object\n",
       " furnishingstatus    object\n",
       " dtype: object,\n",
       " dtype('int64'))"
      ]
     },
     "execution_count": 86,
     "metadata": {},
     "output_type": "execute_result"
    }
   ],
   "source": [
    "X_train = housing_data.drop(\"price\", axis=1)\n",
    "y_train = housing_data[\"price\"]\n",
    "X_train.dtypes, y_train.dtypes"
   ]
  },
  {
   "cell_type": "markdown",
   "id": "69826280",
   "metadata": {},
   "source": [
    "### 4. Convert  the categories(columns) into integers"
   ]
  },
  {
   "cell_type": "code",
   "execution_count": 87,
   "id": "2c093175",
   "metadata": {},
   "outputs": [],
   "source": [
    "#call label_encoder\n",
    "from sklearn.preprocessing import LabelEncoder\n",
    "le = LabelEncoder\n",
    "\n",
    "#loop through the column to find the convertible data\n",
    "for col in X.select_dtypes(include='object'):\n",
    "    \n",
    "    #convert them into integers\n",
    "    X[col] = le.fit_transform(X[col])"
   ]
  },
  {
   "cell_type": "markdown",
   "id": "e00efe12",
   "metadata": {},
   "source": [
    "###  5. Split them into training and testing dataset, ie, `X_train`, `y_train`, `X_test`, `y_test`"
   ]
  },
  {
   "cell_type": "code",
   "execution_count": 88,
   "id": "86adb72c",
   "metadata": {},
   "outputs": [
    {
     "data": {
      "text/plain": [
       "(     area  bedrooms  bathrooms  stories  mainroad  guestroom  basement  \\\n",
       " 419  4960         4          1        3         0          0         0   \n",
       " 200  4520         3          1        2         1          0         1   \n",
       " 204  4770         3          1        1         1          1         1   \n",
       " 349  4820         3          1        2         1          0         0   \n",
       " 420  4120         2          1        2         1          0         0   \n",
       " \n",
       "      hotwaterheating  airconditioning  parking  prefarea  furnishingstatus  \n",
       " 419                0                0        0         0                 1  \n",
       " 200                0                1        0         0                 1  \n",
       " 204                0                0        0         0                 1  \n",
       " 349                0                0        0         0                 1  \n",
       " 420                0                0        0         0                 2  ,\n",
       "      area  bedrooms  bathrooms  stories  mainroad  guestroom  basement  \\\n",
       " 416  3450         3          1        1         1          0         1   \n",
       " 60   6000         3          2        2         1          1         0   \n",
       " 432  6060         3          1        1         1          1         1   \n",
       " 374  3520         2          2        1         1          0         1   \n",
       " 244  5320         3          1        2         1          1         1   \n",
       " \n",
       "      hotwaterheating  airconditioning  parking  prefarea  furnishingstatus  \n",
       " 416                0                0        2         0                 2  \n",
       " 60                 0                0        1         0                 1  \n",
       " 432                0                0        0         0                 0  \n",
       " 374                0                0        0         0                 1  \n",
       " 244                0                0        0         1                 1  ,\n",
       " 419    3360000\n",
       " 200    4900000\n",
       " 204    4900000\n",
       " 349    3780000\n",
       " 420    3360000\n",
       " Name: price, dtype: int64,\n",
       " 416    3395000\n",
       " 60     7140000\n",
       " 432    3290000\n",
       " 374    3640000\n",
       " 244    4550000\n",
       " Name: price, dtype: int64)"
      ]
     },
     "execution_count": 88,
     "metadata": {},
     "output_type": "execute_result"
    }
   ],
   "source": [
    "from sklearn.model_selection import train_test_split\n",
    "X_train, X_test, y_train, y_test = train_test_split(X, y, test_size=0.2)\n",
    "X_train.head(), X_test.head(), y_train.head(), y_test.head()"
   ]
  },
  {
   "cell_type": "markdown",
   "id": "2d082291",
   "metadata": {},
   "source": [
    "### Calling the `Ensemble` model that uses the algorithm - `RandomForestRegressor` for training"
   ]
  },
  {
   "cell_type": "code",
   "execution_count": 89,
   "id": "6fc6dfcb",
   "metadata": {},
   "outputs": [],
   "source": [
    "#Random Forest Regression is a supervised learning algorithm that uses ensemble learning method for regression.\n",
    "#Ensemble learning method is a technique that combines predictions from multiple\n",
    "#machine learning algorithms to make a more accurate prediction than a single model.\n",
    "#*************************************************************************************************************************\n",
    "#Pick at random k data points from the training set.\n",
    "#Build a decision tree associated to these k data points.\n",
    "#Choose the number N of trees you want to build and repeat steps 1 and 2.\n",
    "#For a new data point, make each one of your N-tree trees predict the value of y for the data \n",
    "#point in question and assign the new data point to the average across all of the predicted y values."
   ]
  },
  {
   "cell_type": "code",
   "execution_count": 90,
   "id": "8531328e",
   "metadata": {},
   "outputs": [],
   "source": [
    "from sklearn.ensemble import RandomForestRegressor\n",
    "model = RandomForestRegressor()"
   ]
  },
  {
   "cell_type": "markdown",
   "id": "e4c117df",
   "metadata": {},
   "source": [
    "### Now fitting the dataset for model training"
   ]
  },
  {
   "cell_type": "code",
   "execution_count": 91,
   "id": "7c26923c",
   "metadata": {},
   "outputs": [
    {
     "data": {
      "text/html": [
       "<style>#sk-container-id-2 {color: black;background-color: white;}#sk-container-id-2 pre{padding: 0;}#sk-container-id-2 div.sk-toggleable {background-color: white;}#sk-container-id-2 label.sk-toggleable__label {cursor: pointer;display: block;width: 100%;margin-bottom: 0;padding: 0.3em;box-sizing: border-box;text-align: center;}#sk-container-id-2 label.sk-toggleable__label-arrow:before {content: \"▸\";float: left;margin-right: 0.25em;color: #696969;}#sk-container-id-2 label.sk-toggleable__label-arrow:hover:before {color: black;}#sk-container-id-2 div.sk-estimator:hover label.sk-toggleable__label-arrow:before {color: black;}#sk-container-id-2 div.sk-toggleable__content {max-height: 0;max-width: 0;overflow: hidden;text-align: left;background-color: #f0f8ff;}#sk-container-id-2 div.sk-toggleable__content pre {margin: 0.2em;color: black;border-radius: 0.25em;background-color: #f0f8ff;}#sk-container-id-2 input.sk-toggleable__control:checked~div.sk-toggleable__content {max-height: 200px;max-width: 100%;overflow: auto;}#sk-container-id-2 input.sk-toggleable__control:checked~label.sk-toggleable__label-arrow:before {content: \"▾\";}#sk-container-id-2 div.sk-estimator input.sk-toggleable__control:checked~label.sk-toggleable__label {background-color: #d4ebff;}#sk-container-id-2 div.sk-label input.sk-toggleable__control:checked~label.sk-toggleable__label {background-color: #d4ebff;}#sk-container-id-2 input.sk-hidden--visually {border: 0;clip: rect(1px 1px 1px 1px);clip: rect(1px, 1px, 1px, 1px);height: 1px;margin: -1px;overflow: hidden;padding: 0;position: absolute;width: 1px;}#sk-container-id-2 div.sk-estimator {font-family: monospace;background-color: #f0f8ff;border: 1px dotted black;border-radius: 0.25em;box-sizing: border-box;margin-bottom: 0.5em;}#sk-container-id-2 div.sk-estimator:hover {background-color: #d4ebff;}#sk-container-id-2 div.sk-parallel-item::after {content: \"\";width: 100%;border-bottom: 1px solid gray;flex-grow: 1;}#sk-container-id-2 div.sk-label:hover label.sk-toggleable__label {background-color: #d4ebff;}#sk-container-id-2 div.sk-serial::before {content: \"\";position: absolute;border-left: 1px solid gray;box-sizing: border-box;top: 0;bottom: 0;left: 50%;z-index: 0;}#sk-container-id-2 div.sk-serial {display: flex;flex-direction: column;align-items: center;background-color: white;padding-right: 0.2em;padding-left: 0.2em;position: relative;}#sk-container-id-2 div.sk-item {position: relative;z-index: 1;}#sk-container-id-2 div.sk-parallel {display: flex;align-items: stretch;justify-content: center;background-color: white;position: relative;}#sk-container-id-2 div.sk-item::before, #sk-container-id-2 div.sk-parallel-item::before {content: \"\";position: absolute;border-left: 1px solid gray;box-sizing: border-box;top: 0;bottom: 0;left: 50%;z-index: -1;}#sk-container-id-2 div.sk-parallel-item {display: flex;flex-direction: column;z-index: 1;position: relative;background-color: white;}#sk-container-id-2 div.sk-parallel-item:first-child::after {align-self: flex-end;width: 50%;}#sk-container-id-2 div.sk-parallel-item:last-child::after {align-self: flex-start;width: 50%;}#sk-container-id-2 div.sk-parallel-item:only-child::after {width: 0;}#sk-container-id-2 div.sk-dashed-wrapped {border: 1px dashed gray;margin: 0 0.4em 0.5em 0.4em;box-sizing: border-box;padding-bottom: 0.4em;background-color: white;}#sk-container-id-2 div.sk-label label {font-family: monospace;font-weight: bold;display: inline-block;line-height: 1.2em;}#sk-container-id-2 div.sk-label-container {text-align: center;}#sk-container-id-2 div.sk-container {/* jupyter's `normalize.less` sets `[hidden] { display: none; }` but bootstrap.min.css set `[hidden] { display: none !important; }` so we also need the `!important` here to be able to override the default hidden behavior on the sphinx rendered scikit-learn.org. See: https://github.com/scikit-learn/scikit-learn/issues/21755 */display: inline-block !important;position: relative;}#sk-container-id-2 div.sk-text-repr-fallback {display: none;}</style><div id=\"sk-container-id-2\" class=\"sk-top-container\"><div class=\"sk-text-repr-fallback\"><pre>RandomForestRegressor()</pre><b>In a Jupyter environment, please rerun this cell to show the HTML representation or trust the notebook. <br />On GitHub, the HTML representation is unable to render, please try loading this page with nbviewer.org.</b></div><div class=\"sk-container\" hidden><div class=\"sk-item\"><div class=\"sk-estimator sk-toggleable\"><input class=\"sk-toggleable__control sk-hidden--visually\" id=\"sk-estimator-id-2\" type=\"checkbox\" checked><label for=\"sk-estimator-id-2\" class=\"sk-toggleable__label sk-toggleable__label-arrow\">RandomForestRegressor</label><div class=\"sk-toggleable__content\"><pre>RandomForestRegressor()</pre></div></div></div></div></div>"
      ],
      "text/plain": [
       "RandomForestRegressor()"
      ]
     },
     "execution_count": 91,
     "metadata": {},
     "output_type": "execute_result"
    }
   ],
   "source": [
    "model.fit(X_train, y_train)"
   ]
  },
  {
   "cell_type": "markdown",
   "id": "ff90e73d",
   "metadata": {},
   "source": [
    "### Pedicting"
   ]
  },
  {
   "cell_type": "code",
   "execution_count": 92,
   "id": "d765404b",
   "metadata": {},
   "outputs": [
    {
     "data": {
      "text/plain": [
       "array([3311910.        , 6322890.        , 4532850.        ,\n",
       "       3981040.        , 4812150.        , 3303860.        ,\n",
       "       4025665.        , 4707570.        , 5490940.        ,\n",
       "       4892090.        , 5482190.        , 4517065.        ,\n",
       "       5664365.        , 7787728.2       , 3055150.        ,\n",
       "       4068050.        , 5666080.        , 4979100.        ,\n",
       "       5892810.        , 3868410.        , 4015620.        ,\n",
       "       4623587.5       , 3178689.5       , 3470390.        ,\n",
       "       7308322.        , 5314540.        , 4359180.        ,\n",
       "       7735560.        , 5994205.        , 2813160.        ,\n",
       "       4800880.        , 5712280.        , 3758720.        ,\n",
       "       6117230.        , 8932210.        , 5454015.        ,\n",
       "       3157000.        , 4378150.        , 4578840.        ,\n",
       "       4399360.        , 5865720.        , 4483535.        ,\n",
       "       3320905.        , 4599280.        , 8003940.        ,\n",
       "       6317920.        , 6040930.        , 4448220.        ,\n",
       "       3934140.        , 5234390.        , 4078865.        ,\n",
       "       4114740.        , 4323340.        , 6932520.        ,\n",
       "       3200400.        , 2852080.        , 3580633.        ,\n",
       "       3339318.5       , 4227720.        , 5211920.        ,\n",
       "       4315640.        , 3812830.        , 3378620.        ,\n",
       "       4606700.        , 4042360.        , 2236080.        ,\n",
       "       5072340.        , 5689040.        , 4790100.        ,\n",
       "       5941530.        , 4708725.        , 3101595.        ,\n",
       "       7466118.8       , 5827045.        , 3823400.        ,\n",
       "       4121810.        , 5418700.        , 2933956.66666667,\n",
       "       6439825.        , 3651760.        , 3193998.5       ,\n",
       "       6983445.        , 7919339.4       , 5828270.        ,\n",
       "       4468240.        , 4415810.        , 5101740.        ,\n",
       "       6616394.4       , 5651450.        , 4120130.        ,\n",
       "       3811780.        , 2960685.        , 4804590.        ,\n",
       "       6117475.        , 3595760.        , 7377434.4       ,\n",
       "       4418400.        , 7672595.        , 4722200.        ,\n",
       "       4616220.        , 6716780.        , 5599889.4       ,\n",
       "       4336360.        , 9561580.        , 5135760.        ,\n",
       "       4576880.        , 8374170.        , 4708340.        ,\n",
       "       5653200.        ])"
      ]
     },
     "execution_count": 92,
     "metadata": {},
     "output_type": "execute_result"
    }
   ],
   "source": [
    "model.predict(X_test)"
   ]
  },
  {
   "cell_type": "markdown",
   "id": "deba43c4",
   "metadata": {},
   "source": [
    "### Finding the accuracy"
   ]
  },
  {
   "cell_type": "code",
   "execution_count": 93,
   "id": "5f3d611d",
   "metadata": {},
   "outputs": [
    {
     "data": {
      "text/plain": [
       "0.0"
      ]
     },
     "execution_count": 93,
     "metadata": {},
     "output_type": "execute_result"
    }
   ],
   "source": [
    "y_preds = model.predict(X_test)\n",
    "np.mean(y_preds==y_test)"
   ]
  }
 ],
 "metadata": {
  "kernelspec": {
   "display_name": "Python 3 (ipykernel)",
   "language": "python",
   "name": "python3"
  },
  "language_info": {
   "codemirror_mode": {
    "name": "ipython",
    "version": 3
   },
   "file_extension": ".py",
   "mimetype": "text/x-python",
   "name": "python",
   "nbconvert_exporter": "python",
   "pygments_lexer": "ipython3",
   "version": "3.10.9"
  }
 },
 "nbformat": 4,
 "nbformat_minor": 5
}
