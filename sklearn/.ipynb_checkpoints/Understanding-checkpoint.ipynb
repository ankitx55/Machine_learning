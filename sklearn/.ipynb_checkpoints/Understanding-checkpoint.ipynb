{
 "cells": [
  {
   "cell_type": "markdown",
   "id": "701f2d42",
   "metadata": {},
   "source": [
    "## Importing usual libraries"
   ]
  },
  {
   "cell_type": "code",
   "execution_count": null,
   "id": "9d311524",
   "metadata": {},
   "outputs": [],
   "source": [
    "import pandas as pd\n",
    "import numpy as np\n",
    "import matplotlib.pyplot as plt\n",
    "%matplotlib inline"
   ]
  },
  {
   "cell_type": "markdown",
   "id": "0b6cf1a5",
   "metadata": {},
   "source": [
    "## Getting our heart-disease dataset ready"
   ]
  },
  {
   "cell_type": "code",
   "execution_count": null,
   "id": "584e1d53",
   "metadata": {},
   "outputs": [],
   "source": [
    "heart_disease = pd.read_csv(\"../Data/heart-disease.csv\")\n",
    "heart_disease"
   ]
  },
  {
   "cell_type": "markdown",
   "id": "d2eab07b",
   "metadata": {},
   "source": [
    "## Splitting x and y axes"
   ]
  },
  {
   "cell_type": "code",
   "execution_count": null,
   "id": "0b5bc05b",
   "metadata": {},
   "outputs": [],
   "source": [
    "X = heart_disease.drop(\"target\",axis=1)\n",
    "X"
   ]
  },
  {
   "cell_type": "code",
   "execution_count": null,
   "id": "a9e11a27",
   "metadata": {},
   "outputs": [],
   "source": [
    "y=heart_disease[\"target\"]\n",
    "y"
   ]
  },
  {
   "cell_type": "markdown",
   "id": "c250ba3b",
   "metadata": {},
   "source": [
    "## Split data into training and test set\n",
    "We use :\n",
    "`from sklearn.model_selection import train_test_split`"
   ]
  },
  {
   "cell_type": "code",
   "execution_count": null,
   "id": "996739e2",
   "metadata": {},
   "outputs": [],
   "source": [
    "from sklearn.model_selection import train_test_split"
   ]
  },
  {
   "cell_type": "code",
   "execution_count": null,
   "id": "3712d888",
   "metadata": {},
   "outputs": [],
   "source": [
    "X_train, X_test, y_train, y_test = train_test_split(X, y, test_size=0.2)"
   ]
  },
  {
   "cell_type": "code",
   "execution_count": null,
   "id": "a91fcb3d",
   "metadata": {},
   "outputs": [],
   "source": [
    "X_train.shape, X_test.shape, y_train.shape, y_test.shape"
   ]
  },
  {
   "cell_type": "markdown",
   "id": "da649a4c",
   "metadata": {},
   "source": [
    "## Importing RandomForestCassifier"
   ]
  },
  {
   "cell_type": "code",
   "execution_count": null,
   "id": "ea77770c",
   "metadata": {},
   "outputs": [],
   "source": [
    "\n",
    "from sklearn.ensemble import RandomForestClassifier\n",
    "np.random.seed(42)\n",
    "# Instantiating RandomForestClassifier\n",
    "model = RandomForestClassifier(n_estimators=100)"
   ]
  },
  {
   "cell_type": "code",
   "execution_count": null,
   "id": "d8fe98d3",
   "metadata": {},
   "outputs": [],
   "source": [
    "X.head()"
   ]
  },
  {
   "cell_type": "markdown",
   "id": "3b23ccaf",
   "metadata": {},
   "source": [
    "## Fit the model to the data"
   ]
  },
  {
   "cell_type": "code",
   "execution_count": null,
   "id": "54718d94",
   "metadata": {},
   "outputs": [],
   "source": [
    "# Train the model\n",
    "model.fit(X_train, y_train)"
   ]
  },
  {
   "cell_type": "markdown",
   "id": "60ded2b1",
   "metadata": {},
   "source": [
    "## Evaluating the RFC"
   ]
  },
  {
   "cell_type": "code",
   "execution_count": null,
   "id": "7b0ce9c8",
   "metadata": {},
   "outputs": [],
   "source": [
    "# Evaluation or Outcome\n",
    "model.score(X_test, y_test)"
   ]
  },
  {
   "cell_type": "markdown",
   "id": "00856136",
   "metadata": {},
   "source": [
    "# Prediction by machine learning model"
   ]
  },
  {
   "cell_type": "code",
   "execution_count": null,
   "id": "ebaf03a7",
   "metadata": {},
   "outputs": [],
   "source": [
    "# we feed the test data from earlier\n",
    "model.predict(X_test)"
   ]
  },
  {
   "cell_type": "code",
   "execution_count": null,
   "id": "f69133c5",
   "metadata": {},
   "outputs": [],
   "source": [
    "# and predict whether or not a person has heart disease based on X-Test dataset\n",
    "np.array(y_test)"
   ]
  },
  {
   "cell_type": "code",
   "execution_count": null,
   "id": "5eb7d202",
   "metadata": {},
   "outputs": [],
   "source": [
    "y_preds=model.predict(X_test)\n",
    "y_preds"
   ]
  },
  {
   "cell_type": "markdown",
   "id": "4576e229",
   "metadata": {},
   "source": [
    "## Comparison of accuracy using test data and predicted data"
   ]
  },
  {
   "cell_type": "markdown",
   "id": "48018fd4",
   "metadata": {},
   "source": [
    "### Prediction using `np.mean`"
   ]
  },
  {
   "cell_type": "code",
   "execution_count": null,
   "id": "a5fff142",
   "metadata": {},
   "outputs": [],
   "source": [
    "np.mean(y_preds==y_test)"
   ]
  },
  {
   "cell_type": "markdown",
   "id": "40943708",
   "metadata": {},
   "source": [
    "### Prediction using `score()`"
   ]
  },
  {
   "cell_type": "code",
   "execution_count": null,
   "id": "16945637",
   "metadata": {},
   "outputs": [],
   "source": [
    "model.score(X_test,y_test)"
   ]
  },
  {
   "cell_type": "markdown",
   "id": "1ba1c9a7",
   "metadata": {},
   "source": [
    "### Prediction using sklearn library `sklearn.metrics - accuracy_score`"
   ]
  },
  {
   "cell_type": "code",
   "execution_count": null,
   "id": "8e8426b4",
   "metadata": {},
   "outputs": [],
   "source": [
    "from sklearn.metrics import accuracy_score\n",
    "accuracy_score(y_test, y_preds)"
   ]
  },
  {
   "cell_type": "markdown",
   "id": "103706e8",
   "metadata": {},
   "source": [
    "_We get the same accuracy by all three methods_"
   ]
  },
  {
   "cell_type": "markdown",
   "id": "fd3dee66",
   "metadata": {},
   "source": [
    "### Prediction using `cross_val_score()`"
   ]
  },
  {
   "cell_type": "code",
   "execution_count": null,
   "id": "d6b2f006",
   "metadata": {},
   "outputs": [],
   "source": [
    "from sklearn.model_selection import cross_val_score \n",
    "cross_val_score(model, X, y, cv = 5, scoring = None)"
   ]
  },
  {
   "cell_type": "code",
   "execution_count": null,
   "id": "2f1c4ba7",
   "metadata": {},
   "outputs": [],
   "source": []
  }
 ],
 "metadata": {
  "kernelspec": {
   "display_name": "Python 3 (ipykernel)",
   "language": "python",
   "name": "python3"
  },
  "language_info": {
   "codemirror_mode": {
    "name": "ipython",
    "version": 3
   },
   "file_extension": ".py",
   "mimetype": "text/x-python",
   "name": "python",
   "nbconvert_exporter": "python",
   "pygments_lexer": "ipython3",
   "version": "3.11.4"
  }
 },
 "nbformat": 4,
 "nbformat_minor": 5
}
