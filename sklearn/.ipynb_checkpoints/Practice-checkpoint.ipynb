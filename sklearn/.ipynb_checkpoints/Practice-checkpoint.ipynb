{
 "cells": [
  {
   "cell_type": "markdown",
   "id": "62547e0c",
   "metadata": {},
   "source": [
    "# Practicing on training the model"
   ]
  },
  {
   "cell_type": "markdown",
   "id": "3e68f71b",
   "metadata": {},
   "source": [
    "### 1. Importing usual libraries"
   ]
  },
  {
   "cell_type": "code",
   "execution_count": 65,
   "id": "eb0711ce",
   "metadata": {},
   "outputs": [],
   "source": [
    "import pandas as pd\n",
    "import numpy as np"
   ]
  },
  {
   "cell_type": "markdown",
   "id": "2cf957f3",
   "metadata": {},
   "source": [
    "### 2. Import the dataset"
   ]
  },
  {
   "cell_type": "code",
   "execution_count": 66,
   "id": "0acb45ed",
   "metadata": {},
   "outputs": [
    {
     "data": {
      "text/html": [
       "<div>\n",
       "<style scoped>\n",
       "    .dataframe tbody tr th:only-of-type {\n",
       "        vertical-align: middle;\n",
       "    }\n",
       "\n",
       "    .dataframe tbody tr th {\n",
       "        vertical-align: top;\n",
       "    }\n",
       "\n",
       "    .dataframe thead th {\n",
       "        text-align: right;\n",
       "    }\n",
       "</style>\n",
       "<table border=\"1\" class=\"dataframe\">\n",
       "  <thead>\n",
       "    <tr style=\"text-align: right;\">\n",
       "      <th></th>\n",
       "      <th>price</th>\n",
       "      <th>area</th>\n",
       "      <th>bedrooms</th>\n",
       "      <th>bathrooms</th>\n",
       "      <th>stories</th>\n",
       "      <th>mainroad</th>\n",
       "      <th>guestroom</th>\n",
       "      <th>basement</th>\n",
       "      <th>hotwaterheating</th>\n",
       "      <th>airconditioning</th>\n",
       "      <th>parking</th>\n",
       "      <th>prefarea</th>\n",
       "      <th>furnishingstatus</th>\n",
       "    </tr>\n",
       "  </thead>\n",
       "  <tbody>\n",
       "    <tr>\n",
       "      <th>0</th>\n",
       "      <td>13300000</td>\n",
       "      <td>7420</td>\n",
       "      <td>4</td>\n",
       "      <td>2</td>\n",
       "      <td>3</td>\n",
       "      <td>yes</td>\n",
       "      <td>no</td>\n",
       "      <td>no</td>\n",
       "      <td>no</td>\n",
       "      <td>yes</td>\n",
       "      <td>2</td>\n",
       "      <td>yes</td>\n",
       "      <td>furnished</td>\n",
       "    </tr>\n",
       "    <tr>\n",
       "      <th>1</th>\n",
       "      <td>12250000</td>\n",
       "      <td>8960</td>\n",
       "      <td>4</td>\n",
       "      <td>4</td>\n",
       "      <td>4</td>\n",
       "      <td>yes</td>\n",
       "      <td>no</td>\n",
       "      <td>no</td>\n",
       "      <td>no</td>\n",
       "      <td>yes</td>\n",
       "      <td>3</td>\n",
       "      <td>no</td>\n",
       "      <td>furnished</td>\n",
       "    </tr>\n",
       "    <tr>\n",
       "      <th>2</th>\n",
       "      <td>12250000</td>\n",
       "      <td>9960</td>\n",
       "      <td>3</td>\n",
       "      <td>2</td>\n",
       "      <td>2</td>\n",
       "      <td>yes</td>\n",
       "      <td>no</td>\n",
       "      <td>yes</td>\n",
       "      <td>no</td>\n",
       "      <td>no</td>\n",
       "      <td>2</td>\n",
       "      <td>yes</td>\n",
       "      <td>semi-furnished</td>\n",
       "    </tr>\n",
       "    <tr>\n",
       "      <th>3</th>\n",
       "      <td>12215000</td>\n",
       "      <td>7500</td>\n",
       "      <td>4</td>\n",
       "      <td>2</td>\n",
       "      <td>2</td>\n",
       "      <td>yes</td>\n",
       "      <td>no</td>\n",
       "      <td>yes</td>\n",
       "      <td>no</td>\n",
       "      <td>yes</td>\n",
       "      <td>3</td>\n",
       "      <td>yes</td>\n",
       "      <td>furnished</td>\n",
       "    </tr>\n",
       "    <tr>\n",
       "      <th>4</th>\n",
       "      <td>11410000</td>\n",
       "      <td>7420</td>\n",
       "      <td>4</td>\n",
       "      <td>1</td>\n",
       "      <td>2</td>\n",
       "      <td>yes</td>\n",
       "      <td>yes</td>\n",
       "      <td>yes</td>\n",
       "      <td>no</td>\n",
       "      <td>yes</td>\n",
       "      <td>2</td>\n",
       "      <td>no</td>\n",
       "      <td>furnished</td>\n",
       "    </tr>\n",
       "  </tbody>\n",
       "</table>\n",
       "</div>"
      ],
      "text/plain": [
       "      price  area  bedrooms  bathrooms  stories mainroad guestroom basement  \\\n",
       "0  13300000  7420         4          2        3      yes        no       no   \n",
       "1  12250000  8960         4          4        4      yes        no       no   \n",
       "2  12250000  9960         3          2        2      yes        no      yes   \n",
       "3  12215000  7500         4          2        2      yes        no      yes   \n",
       "4  11410000  7420         4          1        2      yes       yes      yes   \n",
       "\n",
       "  hotwaterheating airconditioning  parking prefarea furnishingstatus  \n",
       "0              no             yes        2      yes        furnished  \n",
       "1              no             yes        3       no        furnished  \n",
       "2              no              no        2      yes   semi-furnished  \n",
       "3              no             yes        3      yes        furnished  \n",
       "4              no             yes        2       no        furnished  "
      ]
     },
     "execution_count": 66,
     "metadata": {},
     "output_type": "execute_result"
    }
   ],
   "source": [
    "housing_data = pd.read_csv(\"../data/Housing.csv\")\n",
    "housing_data.head()"
   ]
  },
  {
   "cell_type": "markdown",
   "id": "4000c32b",
   "metadata": {},
   "source": [
    "### 3. Split the dataset into axes, ie, `x & y`"
   ]
  },
  {
   "cell_type": "code",
   "execution_count": 67,
   "id": "fbc84ed5",
   "metadata": {},
   "outputs": [
    {
     "data": {
      "text/plain": [
       "(area                 int64\n",
       " bedrooms             int64\n",
       " bathrooms            int64\n",
       " stories              int64\n",
       " mainroad            object\n",
       " guestroom           object\n",
       " basement            object\n",
       " hotwaterheating     object\n",
       " airconditioning     object\n",
       " parking              int64\n",
       " prefarea            object\n",
       " furnishingstatus    object\n",
       " dtype: object,\n",
       " dtype('int64'))"
      ]
     },
     "execution_count": 67,
     "metadata": {},
     "output_type": "execute_result"
    }
   ],
   "source": [
    "X = housing_data.drop(\"price\", axis=1)\n",
    "y = housing_data[\"price\"]\n",
    "X.dtypes, y.dtypes"
   ]
  },
  {
   "cell_type": "markdown",
   "id": "96bb887a",
   "metadata": {},
   "source": [
    "### 4. Convert  the categories(columns) into integers"
   ]
  },
  {
   "cell_type": "code",
   "execution_count": 68,
   "id": "1b6c1dd7",
   "metadata": {},
   "outputs": [],
   "source": [
    " "
   ]
  },
  {
   "cell_type": "markdown",
   "id": "bd359161",
   "metadata": {},
   "source": [
    "###  5. Split them into training and testing dataset, ie, `X_train`, `y_train`, `X_test`, `y_test`"
   ]
  },
  {
   "cell_type": "code",
   "execution_count": 69,
   "id": "f9aaa06e",
   "metadata": {},
   "outputs": [
    {
     "data": {
      "text/plain": [
       "(     area  bedrooms  bathrooms  stories  mainroad  guestroom  basement  \\\n",
       " 46   6000         3          2        4         1          0         0   \n",
       " 93   7200         3          2        1         1          0         1   \n",
       " 335  3816         2          1        1         1          0         1   \n",
       " 412  2610         3          1        2         1          0         1   \n",
       " 471  3750         3          1        2         1          0         0   \n",
       " \n",
       "      hotwaterheating  airconditioning  parking  prefarea  furnishingstatus  \n",
       " 46                 0                1        1         0                 0  \n",
       " 93                 0                1        3         0                 1  \n",
       " 335                0                1        2         0                 0  \n",
       " 412                0                0        0         1                 2  \n",
       " 471                0                0        0         0                 2  ,\n",
       "      area  bedrooms  bathrooms  stories  mainroad  guestroom  basement  \\\n",
       " 316  5900         4          2        2         0          0         1   \n",
       " 77   6500         3          2        3         1          0         0   \n",
       " 360  4040         2          1        1         1          0         0   \n",
       " 90   5000         3          1        2         1          0         0   \n",
       " 493  3960         3          1        1         1          0         0   \n",
       " \n",
       "      hotwaterheating  airconditioning  parking  prefarea  furnishingstatus  \n",
       " 316                0                0        1         0                 2  \n",
       " 77                 0                1        0         1                 0  \n",
       " 360                0                0        0         0                 1  \n",
       " 90                 0                1        0         0                 1  \n",
       " 493                0                0        0         0                 0  ,\n",
       " 46     7525000\n",
       " 93     6300000\n",
       " 335    3920000\n",
       " 412    3430000\n",
       " 471    3010000\n",
       " Name: price, dtype: int64,\n",
       " 316    4060000\n",
       " 77     6650000\n",
       " 360    3710000\n",
       " 90     6440000\n",
       " 493    2800000\n",
       " Name: price, dtype: int64)"
      ]
     },
     "execution_count": 69,
     "metadata": {},
     "output_type": "execute_result"
    }
   ],
   "source": [
    "from sklearn.model_selection import train_test_split\n",
    "X_train, X_test, y_train, y_test = train_test_split(X, y, test_size=0.2, random_state=42)\n",
    "X_train.head(), X_test.head(), y_train.head(), y_test.head()"
   ]
  },
  {
   "cell_type": "markdown",
   "id": "a2906161",
   "metadata": {},
   "source": [
    "### Calling the `Ensemble` model that uses the algorithm - `RandomForestRegressor` for training"
   ]
  },
  {
   "cell_type": "code",
   "execution_count": 70,
   "id": "a7b68fcb",
   "metadata": {},
   "outputs": [],
   "source": [
    "#Random Forest Regression is a supervised learning algorithm that uses ensemble learning method for regression.\n",
    "#Ensemble learning method is a technique that combines predictions from multiple\n",
    "#machine learning algorithms to make a more accurate prediction than a single model.\n",
    "#*************************************************************************************************************************\n",
    "#Pick at random k data points from the training set.\n",
    "#Build a decision tree associated to these k data points.\n",
    "#Choose the number N of trees you want to build and repeat steps 1 and 2.\n",
    "#For a new data point, make each one of your N-tree trees predict the value of y for the data \n",
    "#point in question and assign the new data point to the average across all of the predicted y values."
   ]
  },
  {
   "cell_type": "code",
   "execution_count": 81,
   "id": "573c3c96",
   "metadata": {},
   "outputs": [],
   "source": [
    "from sklearn.ensemble import RandomForestRegressor\n",
    "model = RandomForestRegressor(n_estimators=94)"
   ]
  },
  {
   "cell_type": "markdown",
   "id": "7b254fd6",
   "metadata": {},
   "source": [
    "### Now fitting the dataset for model training"
   ]
  },
  {
   "cell_type": "code",
   "execution_count": 82,
   "id": "9c3208d3",
   "metadata": {},
   "outputs": [
    {
     "data": {
      "text/html": [
       "<style>#sk-container-id-7 {color: black;background-color: white;}#sk-container-id-7 pre{padding: 0;}#sk-container-id-7 div.sk-toggleable {background-color: white;}#sk-container-id-7 label.sk-toggleable__label {cursor: pointer;display: block;width: 100%;margin-bottom: 0;padding: 0.3em;box-sizing: border-box;text-align: center;}#sk-container-id-7 label.sk-toggleable__label-arrow:before {content: \"▸\";float: left;margin-right: 0.25em;color: #696969;}#sk-container-id-7 label.sk-toggleable__label-arrow:hover:before {color: black;}#sk-container-id-7 div.sk-estimator:hover label.sk-toggleable__label-arrow:before {color: black;}#sk-container-id-7 div.sk-toggleable__content {max-height: 0;max-width: 0;overflow: hidden;text-align: left;background-color: #f0f8ff;}#sk-container-id-7 div.sk-toggleable__content pre {margin: 0.2em;color: black;border-radius: 0.25em;background-color: #f0f8ff;}#sk-container-id-7 input.sk-toggleable__control:checked~div.sk-toggleable__content {max-height: 200px;max-width: 100%;overflow: auto;}#sk-container-id-7 input.sk-toggleable__control:checked~label.sk-toggleable__label-arrow:before {content: \"▾\";}#sk-container-id-7 div.sk-estimator input.sk-toggleable__control:checked~label.sk-toggleable__label {background-color: #d4ebff;}#sk-container-id-7 div.sk-label input.sk-toggleable__control:checked~label.sk-toggleable__label {background-color: #d4ebff;}#sk-container-id-7 input.sk-hidden--visually {border: 0;clip: rect(1px 1px 1px 1px);clip: rect(1px, 1px, 1px, 1px);height: 1px;margin: -1px;overflow: hidden;padding: 0;position: absolute;width: 1px;}#sk-container-id-7 div.sk-estimator {font-family: monospace;background-color: #f0f8ff;border: 1px dotted black;border-radius: 0.25em;box-sizing: border-box;margin-bottom: 0.5em;}#sk-container-id-7 div.sk-estimator:hover {background-color: #d4ebff;}#sk-container-id-7 div.sk-parallel-item::after {content: \"\";width: 100%;border-bottom: 1px solid gray;flex-grow: 1;}#sk-container-id-7 div.sk-label:hover label.sk-toggleable__label {background-color: #d4ebff;}#sk-container-id-7 div.sk-serial::before {content: \"\";position: absolute;border-left: 1px solid gray;box-sizing: border-box;top: 0;bottom: 0;left: 50%;z-index: 0;}#sk-container-id-7 div.sk-serial {display: flex;flex-direction: column;align-items: center;background-color: white;padding-right: 0.2em;padding-left: 0.2em;position: relative;}#sk-container-id-7 div.sk-item {position: relative;z-index: 1;}#sk-container-id-7 div.sk-parallel {display: flex;align-items: stretch;justify-content: center;background-color: white;position: relative;}#sk-container-id-7 div.sk-item::before, #sk-container-id-7 div.sk-parallel-item::before {content: \"\";position: absolute;border-left: 1px solid gray;box-sizing: border-box;top: 0;bottom: 0;left: 50%;z-index: -1;}#sk-container-id-7 div.sk-parallel-item {display: flex;flex-direction: column;z-index: 1;position: relative;background-color: white;}#sk-container-id-7 div.sk-parallel-item:first-child::after {align-self: flex-end;width: 50%;}#sk-container-id-7 div.sk-parallel-item:last-child::after {align-self: flex-start;width: 50%;}#sk-container-id-7 div.sk-parallel-item:only-child::after {width: 0;}#sk-container-id-7 div.sk-dashed-wrapped {border: 1px dashed gray;margin: 0 0.4em 0.5em 0.4em;box-sizing: border-box;padding-bottom: 0.4em;background-color: white;}#sk-container-id-7 div.sk-label label {font-family: monospace;font-weight: bold;display: inline-block;line-height: 1.2em;}#sk-container-id-7 div.sk-label-container {text-align: center;}#sk-container-id-7 div.sk-container {/* jupyter's `normalize.less` sets `[hidden] { display: none; }` but bootstrap.min.css set `[hidden] { display: none !important; }` so we also need the `!important` here to be able to override the default hidden behavior on the sphinx rendered scikit-learn.org. See: https://github.com/scikit-learn/scikit-learn/issues/21755 */display: inline-block !important;position: relative;}#sk-container-id-7 div.sk-text-repr-fallback {display: none;}</style><div id=\"sk-container-id-7\" class=\"sk-top-container\"><div class=\"sk-text-repr-fallback\"><pre>RandomForestRegressor(n_estimators=94)</pre><b>In a Jupyter environment, please rerun this cell to show the HTML representation or trust the notebook. <br />On GitHub, the HTML representation is unable to render, please try loading this page with nbviewer.org.</b></div><div class=\"sk-container\" hidden><div class=\"sk-item\"><div class=\"sk-estimator sk-toggleable\"><input class=\"sk-toggleable__control sk-hidden--visually\" id=\"sk-estimator-id-7\" type=\"checkbox\" checked><label for=\"sk-estimator-id-7\" class=\"sk-toggleable__label sk-toggleable__label-arrow\">RandomForestRegressor</label><div class=\"sk-toggleable__content\"><pre>RandomForestRegressor(n_estimators=94)</pre></div></div></div></div></div>"
      ],
      "text/plain": [
       "RandomForestRegressor(n_estimators=94)"
      ]
     },
     "execution_count": 82,
     "metadata": {},
     "output_type": "execute_result"
    }
   ],
   "source": [
    "model.fit(X_train, y_train)"
   ]
  },
  {
   "cell_type": "markdown",
   "id": "c9c74251",
   "metadata": {},
   "source": [
    "### Pedicting"
   ]
  },
  {
   "cell_type": "code",
   "execution_count": 83,
   "id": "0e0139ba",
   "metadata": {},
   "outputs": [
    {
     "data": {
      "text/plain": [
       "array([ 5577994.68085106,  6980117.0212766 ,  3788042.55319149,\n",
       "        4439712.76595745,  3652659.57446809,  3404308.5106383 ,\n",
       "        5206138.29787234,  5168085.10638298,  2613755.31914894,\n",
       "        2794362.76595745, 10032967.44680851,  3228010.28368794,\n",
       "        3025179.07801418,  3404234.04255319,  3609281.91489362,\n",
       "        4046893.61702128,  3303664.89361702,  5150063.82978723,\n",
       "        3746117.0212766 ,  4014425.53191489,  5550702.12765957,\n",
       "        6040255.31914894,  3069804.07801418,  3713946.80851064,\n",
       "        4729989.36170213,  6570542.55319149,  3078808.5106383 ,\n",
       "        4869765.95744681,  6551925.53191489,  3262744.68085106,\n",
       "        5581792.55319149,  3217021.27659574,  6832856.38297872,\n",
       "        4258829.78723404,  2906042.55319149,  6056489.36170213,\n",
       "        4747414.89361702,  3691494.68085106,  2998457.44680851,\n",
       "        4357127.65957447,  4009287.23404255,  2784156.91489362,\n",
       "        7294446.80851064,  4228968.08510638,  3964755.31914894,\n",
       "        4345436.17021277,  7065234.04255319,  4015765.95744681,\n",
       "        2894723.40425532,  3014468.08510638,  7959811.70212766,\n",
       "        2492223.40425532,  4078468.08510638,  4513063.82978723,\n",
       "        3433760.63829787,  2793260.63829787,  6872361.70212766,\n",
       "        2952659.57446809,  5156468.08510638,  3104028.36879433,\n",
       "        4134244.68085106,  3677085.10638298,  4702585.10638298,\n",
       "        4634223.40425532,  3949861.70212766,  4771244.68085106,\n",
       "        6417212.76595745,  2951468.08510638,  5804489.36170213,\n",
       "        4886632.9787234 ,  3849851.06382979,  5655031.91489362,\n",
       "        4575244.68085106,  7474510.63829787,  3060712.76595745,\n",
       "        5617797.87234043,  4236154.25531915,  4519393.61702128,\n",
       "        4722877.65957447,  4717776.59574468,  8328498.72340426,\n",
       "        4252500.        ,  5826823.82978723,  6008531.91489362,\n",
       "        2972319.14893617,  6207361.70212766,  2881914.89361702,\n",
       "        4160122.34042553,  8794762.76595745,  8651851.06382979,\n",
       "        3138926.59574468,  5557925.53191489,  3683117.0212766 ,\n",
       "        3571079.78723404,  9334202.12765957,  4375037.23404255,\n",
       "        5092127.65957447,  6041968.08510638,  4278117.0212766 ,\n",
       "        6016723.40425532,  4290143.61702128,  7041627.65957447,\n",
       "        3937797.87234043,  4264563.82978723,  6090781.91489362,\n",
       "        5332734.04255319,  7324978.72340426,  7350000.        ,\n",
       "        6352158.93617021])"
      ]
     },
     "execution_count": 83,
     "metadata": {},
     "output_type": "execute_result"
    }
   ],
   "source": [
    "y_preds = model.predict(X_test)\n",
    "y_preds"
   ]
  },
  {
   "cell_type": "code",
   "execution_count": 84,
   "id": "dc92ab27",
   "metadata": {},
   "outputs": [
    {
     "data": {
      "text/plain": [
       "316    4060000\n",
       "77     6650000\n",
       "360    3710000\n",
       "90     6440000\n",
       "493    2800000\n",
       "        ...   \n",
       "15     9100000\n",
       "357    3773000\n",
       "39     7910000\n",
       "54     7350000\n",
       "155    5530000\n",
       "Name: price, Length: 109, dtype: int64"
      ]
     },
     "execution_count": 84,
     "metadata": {},
     "output_type": "execute_result"
    }
   ],
   "source": [
    "y_test"
   ]
  },
  {
   "cell_type": "markdown",
   "id": "1cf16df2",
   "metadata": {},
   "source": [
    "### Finding the accuracy"
   ]
  },
  {
   "cell_type": "code",
   "execution_count": 86,
   "id": "06923767",
   "metadata": {},
   "outputs": [
    {
     "data": {
      "text/plain": [
       "0.6202955576808304"
      ]
     },
     "execution_count": 86,
     "metadata": {},
     "output_type": "execute_result"
    }
   ],
   "source": [
    "from sklearn.metrics import r2_score\n",
    "r2 = r2_score(y_test, y_preds)\n",
    "r2"
   ]
  },
  {
   "cell_type": "code",
   "execution_count": null,
   "id": "9bd9d1ed",
   "metadata": {},
   "outputs": [],
   "source": []
  }
 ],
 "metadata": {
  "kernelspec": {
   "display_name": "Python 3 (ipykernel)",
   "language": "python",
   "name": "python3"
  },
  "language_info": {
   "codemirror_mode": {
    "name": "ipython",
    "version": 3
   },
   "file_extension": ".py",
   "mimetype": "text/x-python",
   "name": "python",
   "nbconvert_exporter": "python",
   "pygments_lexer": "ipython3",
   "version": "3.11.4"
  }
 },
 "nbformat": 4,
 "nbformat_minor": 5
}
